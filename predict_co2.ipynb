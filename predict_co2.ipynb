{
 "cells": [
  {
   "cell_type": "markdown",
   "metadata": {},
   "source": [
    "# 📦 Import Libraries"
   ]
  },
  {
   "cell_type": "code",
   "execution_count": null,
   "metadata": {},
   "outputs": [],
   "source": [
    "import joblib"
   ]
  },
  {
   "cell_type": "code",
   "execution_count": null,
   "metadata": {},
   "outputs": [],
   "source": [
    "import numpy as np"
   ]
  },
  {
   "cell_type": "code",
   "execution_count": null,
   "metadata": {},
   "outputs": [],
   "source": [
    "import matplotlib.pyplot as plt"
   ]
  },
  {
   "cell_type": "code",
   "execution_count": null,
   "metadata": {},
   "outputs": [],
   "source": [
    "from sklearn.metrics import mean_absolute_error, mean_squared_error"
   ]
  },
  {
   "cell_type": "code",
   "execution_count": null,
   "metadata": {},
   "outputs": [],
   "source": [
    "from utils.data_acquisition import *\n",
    "from utils.data_preprocessing import *"
   ]
  },
  {
   "cell_type": "code",
   "execution_count": null,
   "metadata": {},
   "outputs": [],
   "source": [
    "plot_size = (12, 6)\n",
    "\n",
    "graph_colors = {\n",
    "  \"black\": \"#1F1E1F\",\n",
    "  \"blue\": \"#03A9CE\",\n",
    "}\n",
    "\n",
    "text_colors = {\n",
    "  \"title\": \"#262626\",\n",
    "  \"subtitle\": \"#646464\",\n",
    "}\n",
    "\n",
    "fig_path = \"./figures/\"\n",
    "\n",
    "if not os.path.exists(fig_path):\n",
    "    os.makedirs(fig_path)"
   ]
  },
  {
   "cell_type": "markdown",
   "metadata": {},
   "source": [
    "# 💾 Data Acquisition"
   ]
  },
  {
   "cell_type": "code",
   "execution_count": null,
   "metadata": {},
   "outputs": [],
   "source": [
    "DATA_PATH = \"./data/\"\n",
    "\n",
    "GASOLINE_DATA_PATH_1 = DATA_PATH + \"[Gasolina] Trajeto Casa-Escola-UFRN/\"\n",
    "GASOLINE_DATA_PATH_2 = DATA_PATH + \"[Gasolina2023] Trajeto Casa-Escola-UFRN/\"\n",
    "ETHANOL_DATA_PATH = DATA_PATH + \"[Etanol] Trajeto Casa-Escola-UFRN/\"\n",
    "\n",
    "GASOLINE_DATA_PATHS_1 = get_list_paths(GASOLINE_DATA_PATH_1)\n",
    "GASOLINE_DATA_PATHS_2 = get_list_paths(GASOLINE_DATA_PATH_2)\n",
    "\n",
    "GASOLINE_DATA_PATHS = GASOLINE_DATA_PATHS_1 + GASOLINE_DATA_PATHS_2\n",
    "\n",
    "ETHANOL_DATA_PATHS = get_list_paths(ETHANOL_DATA_PATH)\n",
    "\n",
    "SELECTED_COLUMNS = [\n",
    "  \"DeviceTime\",\n",
    "  \"Latitude\",\n",
    "  \"Longitude\",\n",
    "  \"Speed(OBD)(km/h)\",\n",
    "  \"AirFuelRatio(Commanded)(:1)\",\n",
    "  \"MassAirFlowRate(g/s)\",\n",
    "  \"Acceleration\"\n",
    "]"
   ]
  },
  {
   "cell_type": "code",
   "execution_count": null,
   "metadata": {},
   "outputs": [],
   "source": [
    "gasoline_01_12_2022 = pd.read_csv(\"./data/[Gasolina] Trajeto Casa-Escola-UFRN/trackLog-2022-Dec-01_06-43-57_qui.csv\")\n",
    "ethanol_13_02_2023 = pd.read_csv(\"./data/[Etanol] Trajeto Casa-Escola-UFRN/trackLog-2023-Feb-13_06-38-49_seg.csv\")"
   ]
  },
  {
   "cell_type": "code",
   "execution_count": null,
   "metadata": {},
   "outputs": [],
   "source": [
    "LGBMRegressor_ethanol_afr = joblib.load(\"./models/LGBMRegressor_ethanol_afr.pkl\")\n",
    "LGBMRegressor_gasoline_afr = joblib.load(\"./models/LGBMRegressor_gasoline_afr.pkl\")"
   ]
  },
  {
   "cell_type": "code",
   "execution_count": null,
   "metadata": {},
   "outputs": [],
   "source": [
    "XGBRegressor_ethanol_maf = joblib.load(\"./models/XGBRegressor_ethanol_maf.pkl\")\n",
    "XGBRegressor_gasoline_maf = joblib.load(\"./models/XGBRegressor_gasoline_maf.pkl\")"
   ]
  },
  {
   "cell_type": "markdown",
   "metadata": {},
   "source": [
    "# 🧩 Data Modelling"
   ]
  },
  {
   "cell_type": "code",
   "execution_count": null,
   "metadata": {},
   "outputs": [],
   "source": [
    "gasoline_01_12_2022 = remove_space_in_columns(gasoline_01_12_2022)\n",
    "gasoline_01_12_2022[\"Acceleration\"] = compute_acceleration(gasoline_01_12_2022)\n",
    "gasoline_01_12_2022 = filter_columns(gasoline_01_12_2022, SELECTED_COLUMNS)\n",
    "\n",
    "gasoline_01_12_2022.drop(columns=[\"DeviceTime\"], inplace=True)"
   ]
  },
  {
   "cell_type": "code",
   "execution_count": null,
   "metadata": {},
   "outputs": [],
   "source": [
    "ethanol_13_02_2023 = remove_space_in_columns(ethanol_13_02_2023)\n",
    "ethanol_13_02_2023[\"Acceleration\"] = compute_acceleration(ethanol_13_02_2023)\n",
    "ethanol_13_02_2023 = filter_columns(ethanol_13_02_2023, SELECTED_COLUMNS)\n",
    "\n",
    "ethanol_13_02_2023.drop(columns=[\"DeviceTime\"], inplace=True)"
   ]
  },
  {
   "cell_type": "markdown",
   "metadata": {},
   "source": [
    "# 💨 Predict Emissions"
   ]
  },
  {
   "cell_type": "markdown",
   "metadata": {},
   "source": [
    "## Gasoline"
   ]
  },
  {
   "cell_type": "code",
   "execution_count": null,
   "metadata": {},
   "outputs": [],
   "source": [
    "real_gasoline_emissions = []\n",
    "\n",
    "for idx, row in gasoline_01_12_2022.iterrows():\n",
    "    real_gasoline_emissions.append(\n",
    "        compute_co2(\n",
    "            row[\"AirFuelRatio(Commanded)(:1)\"],\n",
    "            row[\"MassAirFlowRate(g/s)\"],\n",
    "            fuel_type=\"gasoline\"\n",
    "        )\n",
    "    )"
   ]
  },
  {
   "cell_type": "code",
   "execution_count": null,
   "metadata": {},
   "outputs": [],
   "source": [
    "pred_gasoline_emissions = []\n",
    "\n",
    "for idx, row in gasoline_01_12_2022.iterrows():\n",
    "    data = row[[\"Latitude\", \"Longitude\", \"Speed(OBD)(km/h)\", \"Acceleration\"]].values\n",
    "    \n",
    "    pred_gasoline_emissions.append(\n",
    "        compute_co2(\n",
    "            LGBMRegressor_gasoline_afr.predict([data])[0],\n",
    "            XGBRegressor_gasoline_maf.predict([data])[0],\n",
    "            fuel_type=\"gasoline\"\n",
    "        )\n",
    "    )"
   ]
  },
  {
   "cell_type": "code",
   "execution_count": null,
   "metadata": {},
   "outputs": [],
   "source": [
    "fig, ax = plt.subplots(figsize=plot_size)\n",
    "\n",
    "ax.spines[\"right\"].set_visible(False)\n",
    "ax.spines[\"top\"].set_visible(False)\n",
    "\n",
    "ax.set_ylabel(\"CO₂ (g)\", fontsize=14)\n",
    "ax.set_xlabel(\"Sample\", fontsize=14)\n",
    "\n",
    "plt.xticks(rotation=0, ha=\"left\")\n",
    "\n",
    "ax.plot(list(range(100)), real_gasoline_emissions[-100:], label=\"Real\", color=graph_colors[\"black\"])\n",
    "ax.plot(list(range(100)), pred_gasoline_emissions[-100:], label=\"Predict\", color=graph_colors[\"blue\"], linewidth=2)\n",
    "\n",
    "# plt.text(0, 4.6, \"CO₂ (g/s) - Predicted vs Real\", fontsize=18, color=text_colors[\"title\"], weight=\"bold\")\n",
    "# plt.text(0, 4.4, \"Comparative between the last 100 samples of Gasoline data\", fontsize=14, color=text_colors[\"subtitle\"])\n",
    "\n",
    "ax.legend(loc=\"upper right\").set_frame_on(False)\n",
    "\n",
    "plt.tight_layout()\n",
    "plt.savefig(f\"{fig_path}gasoline_co2.png\")\n",
    "plt.show()"
   ]
  },
  {
   "cell_type": "code",
   "execution_count": null,
   "metadata": {},
   "outputs": [],
   "source": [
    "mean_absolute_error(real_gasoline_emissions, pred_gasoline_emissions)"
   ]
  },
  {
   "cell_type": "code",
   "execution_count": null,
   "metadata": {},
   "outputs": [],
   "source": [
    "mean_squared_error(real_gasoline_emissions, pred_gasoline_emissions)"
   ]
  },
  {
   "cell_type": "code",
   "execution_count": null,
   "metadata": {},
   "outputs": [],
   "source": [
    "np.sqrt(mean_squared_error(real_gasoline_emissions, pred_gasoline_emissions))"
   ]
  },
  {
   "cell_type": "markdown",
   "metadata": {},
   "source": [
    "## Ethanol"
   ]
  },
  {
   "cell_type": "code",
   "execution_count": null,
   "metadata": {},
   "outputs": [],
   "source": [
    "real_ethanol_emissions = []\n",
    "\n",
    "for idx, row in ethanol_13_02_2023.iterrows():\n",
    "    real_ethanol_emissions.append(\n",
    "        compute_co2(\n",
    "            row[\"AirFuelRatio(Commanded)(:1)\"],\n",
    "            row[\"MassAirFlowRate(g/s)\"],\n",
    "            fuel_type=\"ethanol\"\n",
    "        )\n",
    "    )"
   ]
  },
  {
   "cell_type": "code",
   "execution_count": null,
   "metadata": {},
   "outputs": [],
   "source": [
    "pred_ethanol_emissions = []\n",
    "\n",
    "for idx, row in ethanol_13_02_2023.iterrows():\n",
    "    data = row[[\"Latitude\", \"Longitude\", \"Speed(OBD)(km/h)\", \"Acceleration\"]].values\n",
    "    \n",
    "    pred_ethanol_emissions.append(\n",
    "        compute_co2(\n",
    "            LGBMRegressor_ethanol_afr.predict([data])[0],\n",
    "            XGBRegressor_ethanol_maf.predict([data])[0],\n",
    "            fuel_type=\"ethanol\"\n",
    "        )\n",
    "    )"
   ]
  },
  {
   "cell_type": "code",
   "execution_count": null,
   "metadata": {},
   "outputs": [],
   "source": [
    "fig, ax = plt.subplots(figsize=plot_size)\n",
    "\n",
    "ax.spines[\"right\"].set_visible(False)\n",
    "ax.spines[\"top\"].set_visible(False)\n",
    "\n",
    "ax.set_ylabel(\"CO₂ (g)\", fontsize=14)\n",
    "ax.set_xlabel(\"Sample\", fontsize=14)\n",
    "\n",
    "plt.xticks(rotation=0, ha=\"left\")\n",
    "\n",
    "ax.plot(list(range(100)), real_ethanol_emissions[-100:], label=\"Real\", color=graph_colors[\"black\"])\n",
    "ax.plot(list(range(100)), pred_ethanol_emissions[-100:], label=\"Predict\", color=graph_colors[\"blue\"], linewidth=2)\n",
    "\n",
    "# plt.text(0, 3.35, \"CO₂ (g/s) - Predicted vs Real\", fontsize=18, color=text_colors[\"title\"], weight=\"bold\")\n",
    "# plt.text(0, 3.2, \"Comparative between the last 100 samples of Ethanol data\", fontsize=14, color=text_colors[\"subtitle\"])\n",
    "\n",
    "ax.legend(loc=\"upper right\").set_frame_on(False)\n",
    "\n",
    "plt.tight_layout()\n",
    "plt.savefig(f\"{fig_path}ethanol_co2.png\")\n",
    "plt.show()"
   ]
  },
  {
   "cell_type": "code",
   "execution_count": null,
   "metadata": {},
   "outputs": [],
   "source": [
    "mean_absolute_error(real_ethanol_emissions, pred_ethanol_emissions)"
   ]
  },
  {
   "cell_type": "code",
   "execution_count": null,
   "metadata": {},
   "outputs": [],
   "source": [
    "mean_squared_error(real_ethanol_emissions, pred_ethanol_emissions)"
   ]
  },
  {
   "cell_type": "code",
   "execution_count": null,
   "metadata": {},
   "outputs": [],
   "source": [
    "np.sqrt(mean_squared_error(real_ethanol_emissions, pred_ethanol_emissions))"
   ]
  }
 ],
 "metadata": {
  "kernelspec": {
   "display_name": "venv-mdpi",
   "language": "python",
   "name": "python3"
  },
  "language_info": {
   "codemirror_mode": {
    "name": "ipython",
    "version": 3
   },
   "file_extension": ".py",
   "mimetype": "text/x-python",
   "name": "python",
   "nbconvert_exporter": "python",
   "pygments_lexer": "ipython3",
   "version": "3.11.7"
  }
 },
 "nbformat": 4,
 "nbformat_minor": 2
}
